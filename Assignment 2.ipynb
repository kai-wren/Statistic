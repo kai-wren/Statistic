{
 "cells": [
  {
   "cell_type": "code",
   "execution_count": 1,
   "metadata": {},
   "outputs": [],
   "source": [
    "import numpy as np\n",
    "import pandas as pd\n",
    "import matplotlib.pyplot as plt\n",
    "from scipy import stats\n",
    "import seaborn as sb"
   ]
  },
  {
   "cell_type": "code",
   "execution_count": 2,
   "metadata": {},
   "outputs": [
    {
     "data": {
      "text/html": [
       "<div>\n",
       "<style scoped>\n",
       "    .dataframe tbody tr th:only-of-type {\n",
       "        vertical-align: middle;\n",
       "    }\n",
       "\n",
       "    .dataframe tbody tr th {\n",
       "        vertical-align: top;\n",
       "    }\n",
       "\n",
       "    .dataframe thead th {\n",
       "        text-align: right;\n",
       "    }\n",
       "</style>\n",
       "<table border=\"1\" class=\"dataframe\">\n",
       "  <thead>\n",
       "    <tr style=\"text-align: right;\">\n",
       "      <th></th>\n",
       "      <th>tenure</th>\n",
       "      <th>age</th>\n",
       "      <th>marital</th>\n",
       "      <th>address</th>\n",
       "      <th>income</th>\n",
       "      <th>ed</th>\n",
       "      <th>employ</th>\n",
       "      <th>retire</th>\n",
       "      <th>gender</th>\n",
       "      <th>longmon</th>\n",
       "      <th>wiremon</th>\n",
       "      <th>churn</th>\n",
       "    </tr>\n",
       "  </thead>\n",
       "  <tbody>\n",
       "    <tr>\n",
       "      <th>1</th>\n",
       "      <td>13</td>\n",
       "      <td>44</td>\n",
       "      <td>Married</td>\n",
       "      <td>9</td>\n",
       "      <td>64</td>\n",
       "      <td>College degree</td>\n",
       "      <td>5</td>\n",
       "      <td>No</td>\n",
       "      <td>Male</td>\n",
       "      <td>3.70</td>\n",
       "      <td>0.0</td>\n",
       "      <td>Yes</td>\n",
       "    </tr>\n",
       "    <tr>\n",
       "      <th>2</th>\n",
       "      <td>11</td>\n",
       "      <td>33</td>\n",
       "      <td>Married</td>\n",
       "      <td>7</td>\n",
       "      <td>136</td>\n",
       "      <td>Post-undergraduate degree</td>\n",
       "      <td>5</td>\n",
       "      <td>No</td>\n",
       "      <td>Male</td>\n",
       "      <td>4.40</td>\n",
       "      <td>35.7</td>\n",
       "      <td>Yes</td>\n",
       "    </tr>\n",
       "    <tr>\n",
       "      <th>3</th>\n",
       "      <td>68</td>\n",
       "      <td>52</td>\n",
       "      <td>Married</td>\n",
       "      <td>24</td>\n",
       "      <td>116</td>\n",
       "      <td>Did not complete high school</td>\n",
       "      <td>29</td>\n",
       "      <td>No</td>\n",
       "      <td>Female</td>\n",
       "      <td>18.15</td>\n",
       "      <td>0.0</td>\n",
       "      <td>No</td>\n",
       "    </tr>\n",
       "    <tr>\n",
       "      <th>4</th>\n",
       "      <td>33</td>\n",
       "      <td>33</td>\n",
       "      <td>Unmarried</td>\n",
       "      <td>12</td>\n",
       "      <td>33</td>\n",
       "      <td>High school degree</td>\n",
       "      <td>0</td>\n",
       "      <td>No</td>\n",
       "      <td>Female</td>\n",
       "      <td>9.45</td>\n",
       "      <td>0.0</td>\n",
       "      <td>Yes</td>\n",
       "    </tr>\n",
       "    <tr>\n",
       "      <th>5</th>\n",
       "      <td>23</td>\n",
       "      <td>30</td>\n",
       "      <td>Married</td>\n",
       "      <td>9</td>\n",
       "      <td>30</td>\n",
       "      <td>Did not complete high school</td>\n",
       "      <td>2</td>\n",
       "      <td>No</td>\n",
       "      <td>Male</td>\n",
       "      <td>6.30</td>\n",
       "      <td>0.0</td>\n",
       "      <td>No</td>\n",
       "    </tr>\n",
       "  </tbody>\n",
       "</table>\n",
       "</div>"
      ],
      "text/plain": [
       "   tenure  age    marital  address  income                            ed  \\\n",
       "1      13   44    Married        9      64                College degree   \n",
       "2      11   33    Married        7     136     Post-undergraduate degree   \n",
       "3      68   52    Married       24     116  Did not complete high school   \n",
       "4      33   33  Unmarried       12      33            High school degree   \n",
       "5      23   30    Married        9      30  Did not complete high school   \n",
       "\n",
       "   employ retire  gender  longmon  wiremon churn  \n",
       "1       5     No    Male     3.70      0.0   Yes  \n",
       "2       5     No    Male     4.40     35.7   Yes  \n",
       "3      29     No  Female    18.15      0.0    No  \n",
       "4       0     No  Female     9.45      0.0   Yes  \n",
       "5       2     No    Male     6.30      0.0    No  "
      ]
     },
     "execution_count": 2,
     "metadata": {},
     "output_type": "execute_result"
    }
   ],
   "source": [
    "ceo1999 = pd.read_csv('telco.txt', sep='\\t')\n",
    "ceo1999.head()"
   ]
  },
  {
   "cell_type": "markdown",
   "metadata": {},
   "source": [
    "# Problem 4"
   ]
  },
  {
   "cell_type": "markdown",
   "metadata": {},
   "source": [
    "## Task 1\n",
    "Have a closer look at the deﬁnitions of the variables and analyze which of them might require a separate treatment. Consider for example the variable ed. There are two possibilities how the variable ed can be included into the model (one with dummy variables, the other one without dummies). Think about these two approaches and suggest which approach is more appropriate. Motivate your decision."
   ]
  },
  {
   "cell_type": "markdown",
   "metadata": {},
   "source": [
    "In given dataset the are multiple categorical variables such as:\n",
    "- marital with values Married and Unmarried;\n",
    "- retire with Yes and No values;\n",
    "- gender with Male and Female values;\n",
    "- churn with values Yes and No;\n",
    "- ed with 5 distinct values - Did not complete high school, High school degree, Some college, College degree, Post-undergraduate degree."
   ]
  }
 ],
 "metadata": {
  "kernelspec": {
   "display_name": "Python 3",
   "language": "python",
   "name": "python3"
  },
  "language_info": {
   "codemirror_mode": {
    "name": "ipython",
    "version": 3
   },
   "file_extension": ".py",
   "mimetype": "text/x-python",
   "name": "python",
   "nbconvert_exporter": "python",
   "pygments_lexer": "ipython3",
   "version": "3.7.3"
  }
 },
 "nbformat": 4,
 "nbformat_minor": 2
}
