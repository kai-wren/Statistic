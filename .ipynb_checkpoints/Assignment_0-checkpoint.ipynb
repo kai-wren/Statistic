{
 "cells": [
  {
   "cell_type": "markdown",
   "metadata": {},
   "source": [
    "# Problem 1: Descriptive Statistics and Probability Theory: Real Data on CEO Compensation"
   ]
  },
  {
   "cell_type": "markdown",
   "metadata": {},
   "source": [
    "First of all, as pre-requisite, importing useful libraries for data processing."
   ]
  },
  {
   "cell_type": "code",
   "execution_count": 69,
   "metadata": {},
   "outputs": [],
   "source": [
    "import numpy as np\n",
    "import pandas as pd\n",
    "import matplotlib.pyplot as plt\n",
    "from scipy import stats\n",
    "import seaborn as sb"
   ]
  },
  {
   "cell_type": "markdown",
   "metadata": {},
   "source": [
    "Next pre-requisite - loading data from ceo.xls file and display 5 first records."
   ]
  },
  {
   "cell_type": "code",
   "execution_count": 2,
   "metadata": {},
   "outputs": [
    {
     "data": {
      "text/html": [
       "<div>\n",
       "<style scoped>\n",
       "    .dataframe tbody tr th:only-of-type {\n",
       "        vertical-align: middle;\n",
       "    }\n",
       "\n",
       "    .dataframe tbody tr th {\n",
       "        vertical-align: top;\n",
       "    }\n",
       "\n",
       "    .dataframe thead th {\n",
       "        text-align: right;\n",
       "    }\n",
       "</style>\n",
       "<table border=\"1\" class=\"dataframe\">\n",
       "  <thead>\n",
       "    <tr style=\"text-align: right;\">\n",
       "      <th></th>\n",
       "      <th>salary</th>\n",
       "      <th>totcomp</th>\n",
       "      <th>tenure</th>\n",
       "      <th>age</th>\n",
       "      <th>sales</th>\n",
       "      <th>profits</th>\n",
       "      <th>assets</th>\n",
       "      <th>Unnamed: 7</th>\n",
       "    </tr>\n",
       "  </thead>\n",
       "  <tbody>\n",
       "    <tr>\n",
       "      <th>0</th>\n",
       "      <td>3030</td>\n",
       "      <td>8138</td>\n",
       "      <td>7</td>\n",
       "      <td>61</td>\n",
       "      <td>161315.0</td>\n",
       "      <td>2956.0</td>\n",
       "      <td>257389.0</td>\n",
       "      <td>NaN</td>\n",
       "    </tr>\n",
       "    <tr>\n",
       "      <th>1</th>\n",
       "      <td>6050</td>\n",
       "      <td>14530</td>\n",
       "      <td>0</td>\n",
       "      <td>51</td>\n",
       "      <td>144416.0</td>\n",
       "      <td>22071.0</td>\n",
       "      <td>237545.0</td>\n",
       "      <td>NaN</td>\n",
       "    </tr>\n",
       "    <tr>\n",
       "      <th>2</th>\n",
       "      <td>3571</td>\n",
       "      <td>7433</td>\n",
       "      <td>11</td>\n",
       "      <td>63</td>\n",
       "      <td>139208.0</td>\n",
       "      <td>4430.0</td>\n",
       "      <td>49271.0</td>\n",
       "      <td>NaN</td>\n",
       "    </tr>\n",
       "    <tr>\n",
       "      <th>3</th>\n",
       "      <td>3300</td>\n",
       "      <td>13464</td>\n",
       "      <td>6</td>\n",
       "      <td>60</td>\n",
       "      <td>100697.0</td>\n",
       "      <td>6370.0</td>\n",
       "      <td>92630.0</td>\n",
       "      <td>NaN</td>\n",
       "    </tr>\n",
       "    <tr>\n",
       "      <th>4</th>\n",
       "      <td>10000</td>\n",
       "      <td>68285</td>\n",
       "      <td>18</td>\n",
       "      <td>63</td>\n",
       "      <td>100469.0</td>\n",
       "      <td>9296.0</td>\n",
       "      <td>355935.0</td>\n",
       "      <td>NaN</td>\n",
       "    </tr>\n",
       "  </tbody>\n",
       "</table>\n",
       "</div>"
      ],
      "text/plain": [
       "   salary  totcomp  tenure  age     sales  profits    assets Unnamed: 7\n",
       "0    3030     8138       7   61  161315.0   2956.0  257389.0        NaN\n",
       "1    6050    14530       0   51  144416.0  22071.0  237545.0        NaN\n",
       "2    3571     7433      11   63  139208.0   4430.0   49271.0        NaN\n",
       "3    3300    13464       6   60  100697.0   6370.0   92630.0        NaN\n",
       "4   10000    68285      18   63  100469.0   9296.0  355935.0        NaN"
      ]
     },
     "execution_count": 2,
     "metadata": {},
     "output_type": "execute_result"
    }
   ],
   "source": [
    "ceo1999 = pd.read_excel('./Assignment_0/ceo.xls.')\n",
    "ceo1999.head()\n"
   ]
  },
  {
   "cell_type": "markdown",
   "metadata": {},
   "source": [
    "Now let's describe data to see some basic measurments."
   ]
  },
  {
   "cell_type": "code",
   "execution_count": 3,
   "metadata": {},
   "outputs": [
    {
     "data": {
      "text/html": [
       "<div>\n",
       "<style scoped>\n",
       "    .dataframe tbody tr th:only-of-type {\n",
       "        vertical-align: middle;\n",
       "    }\n",
       "\n",
       "    .dataframe tbody tr th {\n",
       "        vertical-align: top;\n",
       "    }\n",
       "\n",
       "    .dataframe thead th {\n",
       "        text-align: right;\n",
       "    }\n",
       "</style>\n",
       "<table border=\"1\" class=\"dataframe\">\n",
       "  <thead>\n",
       "    <tr style=\"text-align: right;\">\n",
       "      <th></th>\n",
       "      <th>salary</th>\n",
       "      <th>totcomp</th>\n",
       "      <th>tenure</th>\n",
       "      <th>age</th>\n",
       "      <th>sales</th>\n",
       "      <th>profits</th>\n",
       "      <th>assets</th>\n",
       "    </tr>\n",
       "  </thead>\n",
       "  <tbody>\n",
       "    <tr>\n",
       "      <th>count</th>\n",
       "      <td>447.000000</td>\n",
       "      <td>447.000000</td>\n",
       "      <td>447.000000</td>\n",
       "      <td>447.000000</td>\n",
       "      <td>447.000000</td>\n",
       "      <td>447.000000</td>\n",
       "      <td>447.000000</td>\n",
       "    </tr>\n",
       "    <tr>\n",
       "      <th>mean</th>\n",
       "      <td>2027.516779</td>\n",
       "      <td>8340.058166</td>\n",
       "      <td>7.834452</td>\n",
       "      <td>56.469799</td>\n",
       "      <td>11557.780984</td>\n",
       "      <td>700.460850</td>\n",
       "      <td>27054.290828</td>\n",
       "    </tr>\n",
       "    <tr>\n",
       "      <th>std</th>\n",
       "      <td>1722.566389</td>\n",
       "      <td>31571.803005</td>\n",
       "      <td>8.246721</td>\n",
       "      <td>6.806641</td>\n",
       "      <td>16168.368902</td>\n",
       "      <td>1542.538013</td>\n",
       "      <td>64659.043191</td>\n",
       "    </tr>\n",
       "    <tr>\n",
       "      <th>min</th>\n",
       "      <td>100.000000</td>\n",
       "      <td>100.000000</td>\n",
       "      <td>0.000000</td>\n",
       "      <td>34.000000</td>\n",
       "      <td>2896.400000</td>\n",
       "      <td>-2669.000000</td>\n",
       "      <td>717.800000</td>\n",
       "    </tr>\n",
       "    <tr>\n",
       "      <th>25%</th>\n",
       "      <td>1084.000000</td>\n",
       "      <td>1575.500000</td>\n",
       "      <td>2.000000</td>\n",
       "      <td>52.000000</td>\n",
       "      <td>4184.150000</td>\n",
       "      <td>108.450000</td>\n",
       "      <td>3856.950000</td>\n",
       "    </tr>\n",
       "    <tr>\n",
       "      <th>50%</th>\n",
       "      <td>1600.000000</td>\n",
       "      <td>2951.000000</td>\n",
       "      <td>5.000000</td>\n",
       "      <td>57.000000</td>\n",
       "      <td>6704.000000</td>\n",
       "      <td>333.100000</td>\n",
       "      <td>7810.800000</td>\n",
       "    </tr>\n",
       "    <tr>\n",
       "      <th>75%</th>\n",
       "      <td>2347.500000</td>\n",
       "      <td>6043.000000</td>\n",
       "      <td>10.000000</td>\n",
       "      <td>61.000000</td>\n",
       "      <td>12976.800000</td>\n",
       "      <td>738.000000</td>\n",
       "      <td>21105.550000</td>\n",
       "    </tr>\n",
       "    <tr>\n",
       "      <th>max</th>\n",
       "      <td>15250.000000</td>\n",
       "      <td>589101.000000</td>\n",
       "      <td>60.000000</td>\n",
       "      <td>84.000000</td>\n",
       "      <td>161315.000000</td>\n",
       "      <td>22071.000000</td>\n",
       "      <td>668641.000000</td>\n",
       "    </tr>\n",
       "  </tbody>\n",
       "</table>\n",
       "</div>"
      ],
      "text/plain": [
       "             salary        totcomp      tenure         age          sales  \\\n",
       "count    447.000000     447.000000  447.000000  447.000000     447.000000   \n",
       "mean    2027.516779    8340.058166    7.834452   56.469799   11557.780984   \n",
       "std     1722.566389   31571.803005    8.246721    6.806641   16168.368902   \n",
       "min      100.000000     100.000000    0.000000   34.000000    2896.400000   \n",
       "25%     1084.000000    1575.500000    2.000000   52.000000    4184.150000   \n",
       "50%     1600.000000    2951.000000    5.000000   57.000000    6704.000000   \n",
       "75%     2347.500000    6043.000000   10.000000   61.000000   12976.800000   \n",
       "max    15250.000000  589101.000000   60.000000   84.000000  161315.000000   \n",
       "\n",
       "            profits         assets  \n",
       "count    447.000000     447.000000  \n",
       "mean     700.460850   27054.290828  \n",
       "std     1542.538013   64659.043191  \n",
       "min    -2669.000000     717.800000  \n",
       "25%      108.450000    3856.950000  \n",
       "50%      333.100000    7810.800000  \n",
       "75%      738.000000   21105.550000  \n",
       "max    22071.000000  668641.000000  "
      ]
     },
     "execution_count": 3,
     "metadata": {},
     "output_type": "execute_result"
    }
   ],
   "source": [
    "ceo1999.describe()"
   ]
  },
  {
   "cell_type": "markdown",
   "metadata": {},
   "source": [
    "## 1.\n",
    "## (a)"
   ]
  },
  {
   "cell_type": "markdown",
   "metadata": {},
   "source": [
    "### Calculation:\n",
    "Computing common location measures for variable totcomp:"
   ]
  },
  {
   "cell_type": "code",
   "execution_count": 5,
   "metadata": {},
   "outputs": [
    {
     "name": "stdout",
     "output_type": "stream",
     "text": [
      "Mean = 8340.06\n",
      "5-percent-trimmed mean = 4637.68\n",
      "Median = 2951\n",
      "Lower quartile = 1575.5, Upper Quartile = 6043\n",
      "Lower 5 percent Quantile = 787.5, Upper 5 percent Quantile = 24523.5\n"
     ]
    }
   ],
   "source": [
    "mu= np.mean(ceo1999['totcomp'])\n",
    "print (\"Mean = %G\" % mu)\n",
    "\n",
    "trim_mu = stats.trim_mean(ceo1999['totcomp'], 0.05)\n",
    "print(\"5-percent-trimmed mean = %G\" % trim_mu)\n",
    "\n",
    "med = np.median(ceo1999['totcomp'])\n",
    "print(\"Median = %G\" % med)\n",
    "\n",
    "# Lower quartile (Q1) \n",
    "Q1 = np.percentile(ceo1999['totcomp'], 25, interpolation = 'midpoint') \n",
    "# Upper quartile (Q3) \n",
    "Q3 = np.percentile(ceo1999['totcomp'], 75, interpolation = 'midpoint') \n",
    "print(\"Lower quartile = %G, Upper Quartile = %G\" % (Q1, Q3))\n",
    "\n",
    "Q1_5 = np.quantile(ceo1999['totcomp'], 0.05, interpolation = 'midpoint')\n",
    "Q3_5 = np.quantile(ceo1999['totcomp'], 0.95, interpolation = 'midpoint')\n",
    "print(\"Lower 5 percent Quantile = %G, Upper 5 percent Quantile = %G\" % (Q1_5, Q3_5))"
   ]
  },
  {
   "cell_type": "markdown",
   "metadata": {},
   "source": [
    "### Explanation:\n",
    "Mean indicates that CEO in average recieve 8340 as total compensation.\n",
    "\n",
    "5%-trimmed mean is a mean value which is calculated across given data set by cutting 5% of data from left and right sides of distribution (outliers are removed). Since 5%-trimmed mean equals to 4638 and almost 2 times less than usual mean. It means there are some CEO which has very high values of total compensation compare to vast majority of CEOs. \n",
    "\n",
    "Median just indicate which value from data set sits in the middle of distribution. Since median equal to 2951 it means that 50% of CEO has total compensation less than 2951 and other 50% of CEO has Total Compensation higheer than 2951.\n",
    "\n",
    "Lower quartile indicates that middle value for lower 50% of distribution equal to 1575.5. So first 25% of CEOs has total compensation between 100(min value) and 1575.5. That second 25% of CEOs has total companation between 1575.5 and 2951.\n",
    "Upper quartile indicates that middle value for uper 50% of distribution equal to 6043. So third 25% of CEO has total compensation between 2951 and 6043. While last 25% of CEOs has total compensation between 6043 and 589101(max value).\n",
    "\n",
    "Lower 5% quantile indicates that value 787.5 is on the upper edge of first 5% of dataset. It means that 5% of CEOs has Total Compensation between 100(min value) and 787.5. As opposite other 95% of CEOs have Total Compensation between 787.5 and 589101(max value).\n",
    "Upper 5% quantile shows that value 24523.5 is on the lower edge of last 5% of dataset. It means that 5% of CEOs have Total Compensation which is between 24523.5 and 589101(max value), while other 95% has Total Compensation between 100(min value)and 24523.5."
   ]
  },
  {
   "cell_type": "markdown",
   "metadata": {},
   "source": [
    "## (b)"
   ]
  },
  {
   "cell_type": "markdown",
   "metadata": {},
   "source": [
    "### Calculation:\n",
    "Computing necessary data and plot empirical cumulative distribution function (ECDF)."
   ]
  },
  {
   "cell_type": "code",
   "execution_count": 49,
   "metadata": {},
   "outputs": [
    {
     "data": {
      "image/png": "[encoded data removed]",
      "text/plain": [
       "<Figure size 1440x720 with 1 Axes>"
      ]
     },
     "metadata": {
      "needs_background": "light"
     },
     "output_type": "display_data"
    },
    {
     "name": "stdout",
     "output_type": "stream",
     "text": [
      "F^-1(0.1) =  1002.0\n",
      "F^-1(0.9) =  15060.5\n"
     ]
    }
   ],
   "source": [
    "data = ceo1999['totcomp']\n",
    "x = np.sort(data)\n",
    "y = np.arange(1, len(x)+1)/len(x)\n",
    "\n",
    "plt.figure(figsize=(20,10))\n",
    "plt.yticks(np.arange(0, 1.01, step=0.1))\n",
    "plt.xticks(np.arange(0, 600001, step=25000))\n",
    "markers_on = [154, 275]\n",
    "\n",
    "plt.plot(x, y, '-rD', markevery=markers_on)\n",
    "plt.xlabel('Total Compensation')\n",
    "plt.ylabel('ECDF')\n",
    "plt.margins(0.02)\n",
    "plt.show()\n",
    "\n",
    "Q_10 = np.quantile(ceo1999['totcomp'], 0.1, interpolation = 'midpoint')\n",
    "Q_90 = np.quantile(ceo1999['totcomp'], 0.90, interpolation = 'midpoint')\n",
    "\n",
    "print(\"F^-1(0.1) = \", Q_10)\n",
    "print(\"F^-1(0.9) = \", Q_90)"
   ]
  },
  {
   "cell_type": "markdown",
   "metadata": {},
   "source": [
    "### Explanation: \n",
    "#### (i) \n",
    "\n",
    "ECDF function with value 0.1 $F^{-1}(0.1)$ indicates maximum total Compensation for first 10% of CEOs aranged by Total Compensation amount. From this graphic it is clear that first 10% of CEOs have very little Total Compensation compare to values in the end of the curve. This function value will correspond to 10% quantile equal to 1002.\n",
    "\n",
    "ECDF function with value 0.9 $F^{-1}(0.9)$ indicates maximum Total Compensaton for first 90% of CEOs aranged by Total Compensation amount. From this graphic it is clear that first 90% of CEOs have improve in Total Compensation compare to first 10% - $F^{-1}(0.1)$, but still far behind other 10% in the end of the line. Maximum Total Compensation for 90% is less than 25000 as per graphic. This function value will correspond to 90% quantile equal to 15060.5.\n",
    "\n",
    "#### (ii)\n",
    "ECDF function for value 2000 - $F(2000) - indicate hom many CEOs have Total Compensation less or equal to 2000. From this graphic we could conclude that around 34% of CEOs have Total Compensation less or equal to 2000 (lower marker on the graph).\n",
    "\n",
    "ECDF function for value 4000 - $F(4000) - indicate hom many CEOs have Total Compensation less or equal to 4000. From this graphic we could conclude that around 62% of CEOs have Total Compensation less or equal to 4000 (upper marker on the graph)."
   ]
  },
  {
   "cell_type": "markdown",
   "metadata": {},
   "source": [
    "## (c)"
   ]
  },
  {
   "cell_type": "markdown",
   "metadata": {},
   "source": [
    "### Calculation:\n",
    "Building histogram and Box plot for given CEO dataset."
   ]
  },
  {
   "cell_type": "code",
   "execution_count": 56,
   "metadata": {},
   "outputs": [
    {
     "data": {
      "image/png": "[encoded data removed]",
      "text/plain": [
       "<Figure size 1440x720 with 1 Axes>"
      ]
     },
     "metadata": {
      "needs_background": "light"
     },
     "output_type": "display_data"
    }
   ],
   "source": [
    "plt.figure(figsize=(20,10))\n",
    "ceo1999['totcomp'].hist(density=False)\n",
    "plt.show()"
   ]
  },
  {
   "cell_type": "markdown",
   "metadata": {},
   "source": [
    "Examine histogram we could conclude that vast majority of data belongs to single bean. Distribution is highly asymetric. 400+ entries from total of 447 entries are in single bean, which confirms that there are outliers in data with relatively high Total Compensation. To visualize it's even better we could build Box plot."
   ]
  },
  {
   "cell_type": "code",
   "execution_count": 8,
   "metadata": {},
   "outputs": [
    {
     "data": {
      "image/png": "[encoded data removed]",
      "text/plain": [
       "<Figure size 1440x720 with 2 Axes>"
      ]
     },
     "metadata": {
      "needs_background": "light"
     },
     "output_type": "display_data"
    }
   ],
   "source": [
    "plt.figure(figsize=(20,10))\n",
    "\n",
    "plt.subplot(121)\n",
    "ceodf = ceo1999[['totcomp']]\n",
    "ceodf.boxplot(grid=False, showfliers=False)\n",
    "plt.title('Without outliers')\n",
    "\n",
    "plt.subplot(122)\n",
    "ceodf = ceo1999[['totcomp']]\n",
    "ceodf.boxplot(grid=False, showfliers=True)\n",
    "plt.title('With outliers')\n",
    "\n",
    "plt.show()\n"
   ]
  },
  {
   "cell_type": "markdown",
   "metadata": {},
   "source": [
    "### Explanation:\n",
    "From Box plot with and without outliers it becomes clear that there are few outliers in right part of distribution. Biggest part of data lies in interval [0; 12500] whether outliers has values up to almost 600000. Considering this location measures computed above are not appropriate due to outliers with very high Total Compensation. \n",
    "\n",
    "To confirm this let's compute interquartile range (IQR) which is difference between upper and lower quartiles. Any value which is outside of threshold will be considered as outlier. For IQR lower threshold value is lower quatile - 1.5 times IQR. Respectively upper threshold is upper quartile + 1.5 times IQR.\n",
    "\n",
    "Alternatively we could calculate Z-score to check how symetric our distribution is. Z-score algorithm uses Standard Deviation and Mean to identify outliers. Any value for which Z-score higher that abs(3) will be considered as outlier."
   ]
  },
  {
   "cell_type": "code",
   "execution_count": 28,
   "metadata": {},
   "outputs": [
    {
     "name": "stdout",
     "output_type": "stream",
     "text": [
      "Outliers identified by IQR algorithm -  51\n",
      "Outliers identified by Z-Score algorithm -  4\n"
     ]
    }
   ],
   "source": [
    "IQR = Q3 - Q1\n",
    "data = ceo1999[['totcomp']]\n",
    "\n",
    "z = np.abs(stats.zscore(data))\n",
    "\n",
    "data_o_iqr = data[((data < (Q1 - 1.5 * IQR)) |(data > (Q3 + 1.5 * IQR))).any(axis=1)]\n",
    "print('Outliers identified by IQR algorithm - ', data_o_iqr.shape[0])\n",
    "#print(data_o_iqr)\n",
    "\n",
    "data_o_z = data[(z > 3).all(axis=1)]\n",
    "print('Outliers identified by Z-Score algorithm - ', data_o_z.shape[0])\n",
    "#print(data_o_z)"
   ]
  },
  {
   "cell_type": "markdown",
   "metadata": {},
   "source": [
    "## (d)"
   ]
  },
  {
   "cell_type": "markdown",
   "metadata": {},
   "source": [
    "### Explanation:\n",
    "Matplotlib.Histogram, used above, has default number of bins equal to 10. Other methods which are used in software today to calculate number of bins could be divided into two categories:\n",
    "- Normal Reference rules;\n",
    "- Bayesin Models.\n",
    "\n",
    "Normal Reference rules have Scott and Freedman & Diaconis methods. Both assume that data is close to normal distribution and try to minimize difference between histogram and underlying distribution of data. Such rules provide good trade-off between accurate representation of data and noise reduction. Also they are not computational expensive. Downside of this methods is an assumption about data being normally distributed, hence such methods are not optimal for complex distributions.\n",
    "\n",
    "Bayesin Models uses fitness fucntion on data to compute optimal bin size. Knuth method uses fixed bin size, while Bayesian Blocks method choose bins with different size. Since both methods requires minimization of cost function on the actual data, they are much more computation expensive compare with Normal Reference rules."
   ]
  },
  {
   "cell_type": "code",
   "execution_count": 42,
   "metadata": {},
   "outputs": [
    {
     "data": {
      "image/png": "[encoded data removed]",
      "text/plain": [
       "<Figure size 1440x720 with 2 Axes>"
      ]
     },
     "metadata": {
      "needs_background": "light"
     },
     "output_type": "display_data"
    }
   ],
   "source": [
    "plt.figure(figsize=(20,10))\n",
    "\n",
    "plt.subplot(121)\n",
    "ceo1999['totcomp'].hist(bins=3)\n",
    "plt.title('Number of bins - 3')\n",
    "\n",
    "plt.subplot(122)\n",
    "ceo1999['totcomp'].hist(bins=200)\n",
    "plt.title('Number of bins - 200')\n",
    "\n",
    "plt.show()"
   ]
  },
  {
   "cell_type": "markdown",
   "metadata": {},
   "source": [
    "If we plot histograms with small amount of bins (the one on the left uses 3 bins only) than it is hard to make any sense out of it. Data is clubbed together in few columns.\n",
    "\n",
    "On other hand, if we choose large number of bins (200 for right histogram above). Than we have more insights into data, however in such case there are number of empty beans with no data and majority of bins is useless.\n",
    "\n",
    "In a nutshell, choosing right number of bins is important, otherwise useful insights could be missed. Usually optimal number of bins is found during multiple experiments, unless more sophisticated approach is used, as described above."
   ]
  },
  {
   "cell_type": "markdown",
   "metadata": {},
   "source": [
    "## (e)"
   ]
  },
  {
   "cell_type": "markdown",
   "metadata": {},
   "source": [
    "### Calculation:\n",
    "In order to normalize distribution let's apply natural logarithm function to Total Compensation. Once applied - we need to build histogram and Box plot again and calculate location measurments."
   ]
  },
  {
   "cell_type": "code",
   "execution_count": 67,
   "metadata": {},
   "outputs": [
    {
     "data": {
      "image/png": "[encoded data removed]",
      "text/plain": [
       "<Figure size 1440x720 with 2 Axes>"
      ]
     },
     "metadata": {
      "needs_background": "light"
     },
     "output_type": "display_data"
    },
    {
     "name": "stdout",
     "output_type": "stream",
     "text": [
      "Original Mean = 8340.06\n",
      "Mean after normalization = 8.13569\n",
      "Original Median = 2951\n",
      "Median after normalization = 7.9899\n"
     ]
    }
   ],
   "source": [
    "plt.figure(figsize=(20,10))\n",
    "\n",
    "data_ln_hist = ceo1999['totcomp'].transform(np.log)\n",
    "data_ln_bp = ceo1999[['totcomp']].transform(np.log)\n",
    "\n",
    "plt.subplot(121)\n",
    "data_ln_hist.hist()\n",
    "\n",
    "plt.subplot(122)\n",
    "data_ln_bp.boxplot(grid=False, showfliers=True)\n",
    "\n",
    "plt.show()\n",
    "\n",
    "mu= np.mean(ceo1999['totcomp'])\n",
    "print (\"Original Mean = %G\" % mu)\n",
    "mu_ln = np.mean(data_ln_hist)\n",
    "print('Mean after normalization = %G' % mu_ln)\n",
    "\n",
    "\n",
    "med = np.median(ceo1999['totcomp'])\n",
    "print(\"Original Median = %G\" % med)\n",
    "med_ln = np.median(data_ln_hist)\n",
    "print(\"Median after normalization = %G\" % med_ln)"
   ]
  },
  {
   "cell_type": "markdown",
   "metadata": {},
   "source": [
    "### Explanation:\n",
    "After applying natural logarithm to Total Compensation data we could see that distribution became more normal like. From histogram perpspective (bin=10 by default) we could see that now highest bin is no more than 160 which is more than 2 time less compare to original histogram. From Box Plot we could notice that there are still outliers exist, but now they are no so distant as it was before.So in a nutshell, data is more equaly spread after normalization using natural logarithm. \n",
    "\n",
    "In addition, newly computed Mean and Median are very close to each other 8.13569 and 7.9899 respectively. Which also confirms that after natural logarithm application data distribution became more normal like distribution. Before difference between Mean and Median was very high - 8340.06 and 2951 respectively.  \n",
    "\n",
    "From economics perspective we could conclude that Total Compensation of majority of CEOs from given dataset lies in the middle of the distribution with slight shift towards left edge. This means there are fewer CEOs (compare to the one in the middle of the distribution) whose Total Compensation either too small or too large. Also, we could conclude that number of CEOs who have high Total Compensation is bigger than number of CEOs with relatively small Total Compensation. We can make this conclusion by comparing left and right sides of the histogram (or upper and lower parts of Box Plot)."
   ]
  },
  {
   "cell_type": "markdown",
   "metadata": {},
   "source": [
    "## 2.\n",
    "## (a)"
   ]
  },
  {
   "cell_type": "code",
   "execution_count": 76,
   "metadata": {},
   "outputs": [
    {
     "name": "stdout",
     "output_type": "stream",
     "text": [
      "test\n",
      "test\n",
      "test\n",
      "test\n",
      "test\n",
      "test\n",
      "test\n",
      "test\n"
     ]
    }
   ],
   "source": [
    "stats.pearsonr(ceo1999['totcomp'], ceo1999['age'])\n",
    "\n",
    "corr_matrix = \n",
    "\n",
    "for i in range(len(ceo1999.columns)):\n",
    "    for j in range(len(ceo1999.columns)):\n",
    "        \n",
    "\n",
    "#sb.heatmap((stats.pearsonr(ceo1999['totcomp'], ceo1999['age'])), ceo1999['totcomp'])"
   ]
  }
 ],
 "metadata": {
  "kernelspec": {
   "display_name": "Python 3",
   "language": "python",
   "name": "python3"
  },
  "language_info": {
   "codemirror_mode": {
    "name": "ipython",
    "version": 3
   },
   "file_extension": ".py",
   "mimetype": "text/x-python",
   "name": "python",
   "nbconvert_exporter": "python",
   "pygments_lexer": "ipython3",
   "version": "3.7.3"
  }
 },
 "nbformat": 4,
 "nbformat_minor": 2
}
