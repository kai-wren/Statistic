{
 "cells": [
  {
   "cell_type": "markdown",
   "metadata": {
    "collapsed": true
   },
   "source": [
    "# Introductory Example"
   ]
  },
  {
   "cell_type": "markdown",
   "metadata": {},
   "source": [
    "The data from this notebook was obtained from the following website: <html>http://www.ssa.gov/oact/babynames/limits.html</html>\n",
    "\n",
    "The data has been downloaded and stored in the CSV file 'yob2010.txt'.\n",
    "\n",
    "The dataset contains tuples with the following structure: (name,gender,occurrences)."
   ]
  },
  {
   "cell_type": "markdown",
   "metadata": {
    "collapsed": true
   },
   "source": [
    "### Check working directory\n",
    "First, lets look at the current working directory. The data file, 'yob2010.txt' should be stored in the same directory for the following code to work. If you don't have this data file, you can download it from portal"
   ]
  },
  {
   "cell_type": "code",
   "execution_count": 1,
   "metadata": {},
   "outputs": [
    {
     "data": {
      "text/plain": [
       "'C:\\\\Users\\\\IBM_ADMIN\\\\Documents\\\\Canada-Ukraine collaboration\\\\Data Science UA4\\\\Lecture 1 - Introduction and Working with Data\\\\Python - Intro to Data Analytics'"
      ]
     },
     "execution_count": 1,
     "metadata": {},
     "output_type": "execute_result"
    }
   ],
   "source": [
    "%pwd"
   ]
  },
  {
   "cell_type": "markdown",
   "metadata": {},
   "source": [
    "### Import numpy library\n",
    "The following command will import the numpy library. It will install the library if it isn't already installed."
   ]
  },
  {
   "cell_type": "code",
   "execution_count": 75,
   "metadata": {
    "collapsed": true
   },
   "outputs": [],
   "source": [
    "try:\n",
    "    import numpy as np\n",
    "except:\n",
    "    !pip install numpy\n",
    "    import numpy as np"
   ]
  },
  {
   "cell_type": "markdown",
   "metadata": {},
   "source": [
    "### Import pandas library\n",
    "The following command will import the pandas library. It will install the library if it isn't already installed."
   ]
  },
  {
   "cell_type": "code",
   "execution_count": 76,
   "metadata": {},
   "outputs": [],
   "source": [
    "try:\n",
    "    import pandas as pd\n",
    "except:\n",
    "    !pip install pandas\n",
    "    import pandas as pd"
   ]
  },
  {
   "cell_type": "markdown",
   "metadata": {},
   "source": [
    "### Load data\n",
    "\n",
    "Use pandas's read_csv file to read the datafile into a pandas dataframe. The *names* argument specifies the names of the columns for the imported data. The *head()* function will show the first 5 rows of the dataframe."
   ]
  },
  {
   "cell_type": "code",
   "execution_count": 77,
   "metadata": {},
   "outputs": [
    {
     "data": {
      "text/html": [
       "<div>\n",
       "<table border=\"1\" class=\"dataframe\">\n",
       "  <thead>\n",
       "    <tr style=\"text-align: right;\">\n",
       "      <th></th>\n",
       "      <th>name</th>\n",
       "      <th>sex</th>\n",
       "      <th>births</th>\n",
       "    </tr>\n",
       "  </thead>\n",
       "  <tbody>\n",
       "    <tr>\n",
       "      <th>0</th>\n",
       "      <td>Isabella</td>\n",
       "      <td>F</td>\n",
       "      <td>22731</td>\n",
       "    </tr>\n",
       "    <tr>\n",
       "      <th>1</th>\n",
       "      <td>Sophia</td>\n",
       "      <td>F</td>\n",
       "      <td>20477</td>\n",
       "    </tr>\n",
       "    <tr>\n",
       "      <th>2</th>\n",
       "      <td>Emma</td>\n",
       "      <td>F</td>\n",
       "      <td>17179</td>\n",
       "    </tr>\n",
       "    <tr>\n",
       "      <th>3</th>\n",
       "      <td>Olivia</td>\n",
       "      <td>F</td>\n",
       "      <td>16860</td>\n",
       "    </tr>\n",
       "    <tr>\n",
       "      <th>4</th>\n",
       "      <td>Ava</td>\n",
       "      <td>F</td>\n",
       "      <td>15300</td>\n",
       "    </tr>\n",
       "  </tbody>\n",
       "</table>\n",
       "</div>"
      ],
      "text/plain": [
       "       name sex  births\n",
       "0  Isabella   F   22731\n",
       "1    Sophia   F   20477\n",
       "2      Emma   F   17179\n",
       "3    Olivia   F   16860\n",
       "4       Ava   F   15300"
      ]
     },
     "execution_count": 77,
     "metadata": {},
     "output_type": "execute_result"
    }
   ],
   "source": [
    "names2010DF = pd.read_csv('yob2010.txt', names=['name','sex','births'])\n",
    "names2010DF.head()"
   ]
  },
  {
   "cell_type": "markdown",
   "metadata": {},
   "source": [
    "## Create proportion columns\n",
    "In the following section, we will modify the existing dataframe by adding a proportion columns. The value in this column will indicates the percentage of babies born with the name in the row with respect to the total number of births."
   ]
  },
  {
   "cell_type": "markdown",
   "metadata": {},
   "source": [
    "#### Simple Math\n",
    "As as side note, simple math operations can easily be done in Python, like as follows:"
   ]
  },
  {
   "cell_type": "code",
   "execution_count": 78,
   "metadata": {},
   "outputs": [
    {
     "data": {
      "text/plain": [
       "4"
      ]
     },
     "execution_count": 78,
     "metadata": {},
     "output_type": "execute_result"
    }
   ],
   "source": [
    "2+2"
   ]
  },
  {
   "cell_type": "markdown",
   "metadata": {},
   "source": [
    "### Create function to determine proportion\n",
    "Now we will define a function that will determine the proportion of total births. \n",
    "\n",
    "The *.astype(float)* function typecasts the value in the birth column as a float and add the pandas series to the variable *births*. Then a new column named *prop* is created which contains the proportion of total births. "
   ]
  },
  {
   "cell_type": "code",
   "execution_count": 79,
   "metadata": {
    "collapsed": true
   },
   "outputs": [],
   "source": [
    "def add_prop(group):\n",
    "    # Integer division floors\n",
    "    # Create a pandas series that contains the number of births\n",
    "    # for each name as a float\n",
    "    births = group.births.astype(float)\n",
    "    \n",
    "    # Divides every element of the series by the total number\n",
    "    # of births, and adds it to the dataframe under the column\n",
    "    # props\n",
    "    group['prop'] = births / births.sum()\n",
    "    return group"
   ]
  },
  {
   "cell_type": "markdown",
   "metadata": {},
   "source": [
    "#### Apply add_prop function to dataframe\n",
    "Now we will simply apply this function to the dataset. First we will group by *sex* using the *groupby* function, and then we will apply the function to the dataset using the *apply* function."
   ]
  },
  {
   "cell_type": "code",
   "execution_count": 80,
   "metadata": {},
   "outputs": [
    {
     "data": {
      "text/html": [
       "<div>\n",
       "<table border=\"1\" class=\"dataframe\">\n",
       "  <thead>\n",
       "    <tr style=\"text-align: right;\">\n",
       "      <th></th>\n",
       "      <th>name</th>\n",
       "      <th>sex</th>\n",
       "      <th>births</th>\n",
       "      <th>prop</th>\n",
       "    </tr>\n",
       "  </thead>\n",
       "  <tbody>\n",
       "    <tr>\n",
       "      <th>0</th>\n",
       "      <td>Isabella</td>\n",
       "      <td>F</td>\n",
       "      <td>22731</td>\n",
       "      <td>0.012923</td>\n",
       "    </tr>\n",
       "    <tr>\n",
       "      <th>1</th>\n",
       "      <td>Sophia</td>\n",
       "      <td>F</td>\n",
       "      <td>20477</td>\n",
       "      <td>0.011641</td>\n",
       "    </tr>\n",
       "    <tr>\n",
       "      <th>2</th>\n",
       "      <td>Emma</td>\n",
       "      <td>F</td>\n",
       "      <td>17179</td>\n",
       "      <td>0.009766</td>\n",
       "    </tr>\n",
       "    <tr>\n",
       "      <th>3</th>\n",
       "      <td>Olivia</td>\n",
       "      <td>F</td>\n",
       "      <td>16860</td>\n",
       "      <td>0.009585</td>\n",
       "    </tr>\n",
       "    <tr>\n",
       "      <th>4</th>\n",
       "      <td>Ava</td>\n",
       "      <td>F</td>\n",
       "      <td>15300</td>\n",
       "      <td>0.008698</td>\n",
       "    </tr>\n",
       "  </tbody>\n",
       "</table>\n",
       "</div>"
      ],
      "text/plain": [
       "       name sex  births      prop\n",
       "0  Isabella   F   22731  0.012923\n",
       "1    Sophia   F   20477  0.011641\n",
       "2      Emma   F   17179  0.009766\n",
       "3    Olivia   F   16860  0.009585\n",
       "4       Ava   F   15300  0.008698"
      ]
     },
     "execution_count": 80,
     "metadata": {},
     "output_type": "execute_result"
    }
   ],
   "source": [
    "names2010DF = names2010DF.groupby(['sex']).apply(add_prop)\n",
    "names2010DF.head()"
   ]
  },
  {
   "cell_type": "markdown",
   "metadata": {},
   "source": [
    "#### Check prop column\n",
    "Verify that the values in the prop column sum to 1 within all the groups using the numpy library."
   ]
  },
  {
   "cell_type": "code",
   "execution_count": 81,
   "metadata": {},
   "outputs": [
    {
     "data": {
      "text/plain": [
       "True"
      ]
     },
     "execution_count": 81,
     "metadata": {},
     "output_type": "execute_result"
    }
   ],
   "source": [
    "np.allclose(names2010DF.groupby('sex').prop.sum(),1)"
   ]
  },
  {
   "cell_type": "markdown",
   "metadata": {},
   "source": [
    "## Extract top 10 names\n",
    "From the dataset, we will now extract the top 10 most common names for each sex."
   ]
  },
  {
   "cell_type": "markdown",
   "metadata": {},
   "source": [
    "### Create extract top 10 rows function\n",
    "Next we will create a function that extracts the top 10 most common names for each sex."
   ]
  },
  {
   "cell_type": "code",
   "execution_count": 82,
   "metadata": {},
   "outputs": [],
   "source": [
    "def get_top10(group):\n",
    "    return group.sort_values(by='births', ascending=False)[:10]    "
   ]
  },
  {
   "cell_type": "markdown",
   "metadata": {},
   "source": [
    "### Apply function to dataframe\n",
    "Now we will apply this function to the dataframe to create a new dataframe called *top10* that contains the top 10 names for each gender."
   ]
  },
  {
   "cell_type": "code",
   "execution_count": 83,
   "metadata": {},
   "outputs": [
    {
     "data": {
      "text/html": [
       "<div>\n",
       "<table border=\"1\" class=\"dataframe\">\n",
       "  <thead>\n",
       "    <tr style=\"text-align: right;\">\n",
       "      <th></th>\n",
       "      <th></th>\n",
       "      <th>name</th>\n",
       "      <th>sex</th>\n",
       "      <th>births</th>\n",
       "      <th>prop</th>\n",
       "    </tr>\n",
       "    <tr>\n",
       "      <th>sex</th>\n",
       "      <th></th>\n",
       "      <th></th>\n",
       "      <th></th>\n",
       "      <th></th>\n",
       "      <th></th>\n",
       "    </tr>\n",
       "  </thead>\n",
       "  <tbody>\n",
       "    <tr>\n",
       "      <th rowspan=\"10\" valign=\"top\">F</th>\n",
       "      <th>0</th>\n",
       "      <td>Isabella</td>\n",
       "      <td>F</td>\n",
       "      <td>22731</td>\n",
       "      <td>0.012923</td>\n",
       "    </tr>\n",
       "    <tr>\n",
       "      <th>1</th>\n",
       "      <td>Sophia</td>\n",
       "      <td>F</td>\n",
       "      <td>20477</td>\n",
       "      <td>0.011641</td>\n",
       "    </tr>\n",
       "    <tr>\n",
       "      <th>2</th>\n",
       "      <td>Emma</td>\n",
       "      <td>F</td>\n",
       "      <td>17179</td>\n",
       "      <td>0.009766</td>\n",
       "    </tr>\n",
       "    <tr>\n",
       "      <th>3</th>\n",
       "      <td>Olivia</td>\n",
       "      <td>F</td>\n",
       "      <td>16860</td>\n",
       "      <td>0.009585</td>\n",
       "    </tr>\n",
       "    <tr>\n",
       "      <th>4</th>\n",
       "      <td>Ava</td>\n",
       "      <td>F</td>\n",
       "      <td>15300</td>\n",
       "      <td>0.008698</td>\n",
       "    </tr>\n",
       "    <tr>\n",
       "      <th>5</th>\n",
       "      <td>Emily</td>\n",
       "      <td>F</td>\n",
       "      <td>14172</td>\n",
       "      <td>0.008057</td>\n",
       "    </tr>\n",
       "    <tr>\n",
       "      <th>6</th>\n",
       "      <td>Abigail</td>\n",
       "      <td>F</td>\n",
       "      <td>14124</td>\n",
       "      <td>0.008030</td>\n",
       "    </tr>\n",
       "    <tr>\n",
       "      <th>7</th>\n",
       "      <td>Madison</td>\n",
       "      <td>F</td>\n",
       "      <td>13070</td>\n",
       "      <td>0.007430</td>\n",
       "    </tr>\n",
       "    <tr>\n",
       "      <th>8</th>\n",
       "      <td>Chloe</td>\n",
       "      <td>F</td>\n",
       "      <td>11656</td>\n",
       "      <td>0.006626</td>\n",
       "    </tr>\n",
       "    <tr>\n",
       "      <th>9</th>\n",
       "      <td>Mia</td>\n",
       "      <td>F</td>\n",
       "      <td>10541</td>\n",
       "      <td>0.005993</td>\n",
       "    </tr>\n",
       "    <tr>\n",
       "      <th rowspan=\"10\" valign=\"top\">M</th>\n",
       "      <th>19698</th>\n",
       "      <td>Jacob</td>\n",
       "      <td>M</td>\n",
       "      <td>21875</td>\n",
       "      <td>0.011523</td>\n",
       "    </tr>\n",
       "    <tr>\n",
       "      <th>19699</th>\n",
       "      <td>Ethan</td>\n",
       "      <td>M</td>\n",
       "      <td>17866</td>\n",
       "      <td>0.009411</td>\n",
       "    </tr>\n",
       "    <tr>\n",
       "      <th>19700</th>\n",
       "      <td>Michael</td>\n",
       "      <td>M</td>\n",
       "      <td>17133</td>\n",
       "      <td>0.009025</td>\n",
       "    </tr>\n",
       "    <tr>\n",
       "      <th>19701</th>\n",
       "      <td>Jayden</td>\n",
       "      <td>M</td>\n",
       "      <td>17030</td>\n",
       "      <td>0.008971</td>\n",
       "    </tr>\n",
       "    <tr>\n",
       "      <th>19702</th>\n",
       "      <td>William</td>\n",
       "      <td>M</td>\n",
       "      <td>16870</td>\n",
       "      <td>0.008887</td>\n",
       "    </tr>\n",
       "    <tr>\n",
       "      <th>19703</th>\n",
       "      <td>Alexander</td>\n",
       "      <td>M</td>\n",
       "      <td>16634</td>\n",
       "      <td>0.008762</td>\n",
       "    </tr>\n",
       "    <tr>\n",
       "      <th>19704</th>\n",
       "      <td>Noah</td>\n",
       "      <td>M</td>\n",
       "      <td>16281</td>\n",
       "      <td>0.008576</td>\n",
       "    </tr>\n",
       "    <tr>\n",
       "      <th>19705</th>\n",
       "      <td>Daniel</td>\n",
       "      <td>M</td>\n",
       "      <td>15679</td>\n",
       "      <td>0.008259</td>\n",
       "    </tr>\n",
       "    <tr>\n",
       "      <th>19706</th>\n",
       "      <td>Aiden</td>\n",
       "      <td>M</td>\n",
       "      <td>15403</td>\n",
       "      <td>0.008114</td>\n",
       "    </tr>\n",
       "    <tr>\n",
       "      <th>19707</th>\n",
       "      <td>Anthony</td>\n",
       "      <td>M</td>\n",
       "      <td>15364</td>\n",
       "      <td>0.008093</td>\n",
       "    </tr>\n",
       "  </tbody>\n",
       "</table>\n",
       "</div>"
      ],
      "text/plain": [
       "                name sex  births      prop\n",
       "sex                                       \n",
       "F   0       Isabella   F   22731  0.012923\n",
       "    1         Sophia   F   20477  0.011641\n",
       "    2           Emma   F   17179  0.009766\n",
       "    3         Olivia   F   16860  0.009585\n",
       "    4            Ava   F   15300  0.008698\n",
       "    5          Emily   F   14172  0.008057\n",
       "    6        Abigail   F   14124  0.008030\n",
       "    7        Madison   F   13070  0.007430\n",
       "    8          Chloe   F   11656  0.006626\n",
       "    9            Mia   F   10541  0.005993\n",
       "M   19698      Jacob   M   21875  0.011523\n",
       "    19699      Ethan   M   17866  0.009411\n",
       "    19700    Michael   M   17133  0.009025\n",
       "    19701     Jayden   M   17030  0.008971\n",
       "    19702    William   M   16870  0.008887\n",
       "    19703  Alexander   M   16634  0.008762\n",
       "    19704       Noah   M   16281  0.008576\n",
       "    19705     Daniel   M   15679  0.008259\n",
       "    19706      Aiden   M   15403  0.008114\n",
       "    19707    Anthony   M   15364  0.008093"
      ]
     },
     "execution_count": 83,
     "metadata": {},
     "output_type": "execute_result"
    }
   ],
   "source": [
    "top10 = names2010DF.groupby(['sex']).apply(get_top10)\n",
    "top10"
   ]
  },
  {
   "cell_type": "markdown",
   "metadata": {},
   "source": [
    "## Aggregate the results\n",
    "Let's find the count of births with the first letter of each name for each gender.\n",
    "\n",
    "First we create a simple inline lambda function called *get_first_letter* that extracts the first letter from the given string.\n",
    "\n",
    "Then we map this to the dataframe using the *map* function, and store it in a new column called *first_letter*."
   ]
  },
  {
   "cell_type": "code",
   "execution_count": 84,
   "metadata": {},
   "outputs": [
    {
     "data": {
      "text/html": [
       "<div>\n",
       "<table border=\"1\" class=\"dataframe\">\n",
       "  <thead>\n",
       "    <tr style=\"text-align: right;\">\n",
       "      <th></th>\n",
       "      <th>name</th>\n",
       "      <th>sex</th>\n",
       "      <th>births</th>\n",
       "      <th>prop</th>\n",
       "      <th>first_letter</th>\n",
       "    </tr>\n",
       "  </thead>\n",
       "  <tbody>\n",
       "    <tr>\n",
       "      <th>0</th>\n",
       "      <td>Isabella</td>\n",
       "      <td>F</td>\n",
       "      <td>22731</td>\n",
       "      <td>0.012923</td>\n",
       "      <td>I</td>\n",
       "    </tr>\n",
       "    <tr>\n",
       "      <th>1</th>\n",
       "      <td>Sophia</td>\n",
       "      <td>F</td>\n",
       "      <td>20477</td>\n",
       "      <td>0.011641</td>\n",
       "      <td>S</td>\n",
       "    </tr>\n",
       "    <tr>\n",
       "      <th>2</th>\n",
       "      <td>Emma</td>\n",
       "      <td>F</td>\n",
       "      <td>17179</td>\n",
       "      <td>0.009766</td>\n",
       "      <td>E</td>\n",
       "    </tr>\n",
       "    <tr>\n",
       "      <th>3</th>\n",
       "      <td>Olivia</td>\n",
       "      <td>F</td>\n",
       "      <td>16860</td>\n",
       "      <td>0.009585</td>\n",
       "      <td>O</td>\n",
       "    </tr>\n",
       "    <tr>\n",
       "      <th>4</th>\n",
       "      <td>Ava</td>\n",
       "      <td>F</td>\n",
       "      <td>15300</td>\n",
       "      <td>0.008698</td>\n",
       "      <td>A</td>\n",
       "    </tr>\n",
       "  </tbody>\n",
       "</table>\n",
       "</div>"
      ],
      "text/plain": [
       "       name sex  births      prop first_letter\n",
       "0  Isabella   F   22731  0.012923            I\n",
       "1    Sophia   F   20477  0.011641            S\n",
       "2      Emma   F   17179  0.009766            E\n",
       "3    Olivia   F   16860  0.009585            O\n",
       "4       Ava   F   15300  0.008698            A"
      ]
     },
     "execution_count": 84,
     "metadata": {},
     "output_type": "execute_result"
    }
   ],
   "source": [
    "# Extract first letter from each column\n",
    "get_first_letter = lambda x: x[0]\n",
    "names2010DF['first_letter'] = names2010DF.name.map(get_first_letter)\n",
    "names2010DF.head()"
   ]
  },
  {
   "cell_type": "markdown",
   "metadata": {},
   "source": [
    "### Pivot Table\n",
    "Let's create a pandas pivot table that shows the number of births for each first letter relative to sex."
   ]
  },
  {
   "cell_type": "code",
   "execution_count": 85,
   "metadata": {},
   "outputs": [
    {
     "data": {
      "text/html": [
       "<div>\n",
       "<table border=\"1\" class=\"dataframe\">\n",
       "  <thead>\n",
       "    <tr style=\"text-align: right;\">\n",
       "      <th>sex</th>\n",
       "      <th>F</th>\n",
       "      <th>M</th>\n",
       "    </tr>\n",
       "    <tr>\n",
       "      <th>first_letter</th>\n",
       "      <th></th>\n",
       "      <th></th>\n",
       "    </tr>\n",
       "  </thead>\n",
       "  <tbody>\n",
       "    <tr>\n",
       "      <th>A</th>\n",
       "      <td>309608</td>\n",
       "      <td>198870</td>\n",
       "    </tr>\n",
       "    <tr>\n",
       "      <th>B</th>\n",
       "      <td>64191</td>\n",
       "      <td>108460</td>\n",
       "    </tr>\n",
       "    <tr>\n",
       "      <th>C</th>\n",
       "      <td>96780</td>\n",
       "      <td>168356</td>\n",
       "    </tr>\n",
       "    <tr>\n",
       "      <th>D</th>\n",
       "      <td>47211</td>\n",
       "      <td>123298</td>\n",
       "    </tr>\n",
       "    <tr>\n",
       "      <th>E</th>\n",
       "      <td>118824</td>\n",
       "      <td>102513</td>\n",
       "    </tr>\n",
       "  </tbody>\n",
       "</table>\n",
       "</div>"
      ],
      "text/plain": [
       "sex                F       M\n",
       "first_letter                \n",
       "A             309608  198870\n",
       "B              64191  108460\n",
       "C              96780  168356\n",
       "D              47211  123298\n",
       "E             118824  102513"
      ]
     },
     "execution_count": 85,
     "metadata": {},
     "output_type": "execute_result"
    }
   ],
   "source": [
    "pTable = names2010DF.pivot_table('births', index=['first_letter'],\n",
    "                                columns=['sex'], aggfunc=sum)\n",
    "pTable.head()"
   ]
  },
  {
   "cell_type": "markdown",
   "metadata": {},
   "source": [
    "#### Find the total number of births for each sex"
   ]
  },
  {
   "cell_type": "code",
   "execution_count": 86,
   "metadata": {},
   "outputs": [
    {
     "data": {
      "text/plain": [
       "sex\n",
       "F    1759010\n",
       "M    1898382\n",
       "dtype: int64"
      ]
     },
     "execution_count": 86,
     "metadata": {},
     "output_type": "execute_result"
    }
   ],
   "source": [
    "pTable.sum()"
   ]
  },
  {
   "cell_type": "markdown",
   "metadata": {},
   "source": [
    "### Normalize the results\n",
    "The results are normalized by dividing by the total number of names."
   ]
  },
  {
   "cell_type": "code",
   "execution_count": 87,
   "metadata": {},
   "outputs": [
    {
     "data": {
      "text/html": [
       "<div>\n",
       "<table border=\"1\" class=\"dataframe\">\n",
       "  <thead>\n",
       "    <tr style=\"text-align: right;\">\n",
       "      <th>sex</th>\n",
       "      <th>F</th>\n",
       "      <th>M</th>\n",
       "    </tr>\n",
       "    <tr>\n",
       "      <th>first_letter</th>\n",
       "      <th></th>\n",
       "      <th></th>\n",
       "    </tr>\n",
       "  </thead>\n",
       "  <tbody>\n",
       "    <tr>\n",
       "      <th>A</th>\n",
       "      <td>0.176013</td>\n",
       "      <td>0.104758</td>\n",
       "    </tr>\n",
       "    <tr>\n",
       "      <th>B</th>\n",
       "      <td>0.036493</td>\n",
       "      <td>0.057133</td>\n",
       "    </tr>\n",
       "    <tr>\n",
       "      <th>C</th>\n",
       "      <td>0.055020</td>\n",
       "      <td>0.088684</td>\n",
       "    </tr>\n",
       "    <tr>\n",
       "      <th>D</th>\n",
       "      <td>0.026840</td>\n",
       "      <td>0.064949</td>\n",
       "    </tr>\n",
       "    <tr>\n",
       "      <th>E</th>\n",
       "      <td>0.067552</td>\n",
       "      <td>0.054000</td>\n",
       "    </tr>\n",
       "  </tbody>\n",
       "</table>\n",
       "</div>"
      ],
      "text/plain": [
       "sex                  F         M\n",
       "first_letter                    \n",
       "A             0.176013  0.104758\n",
       "B             0.036493  0.057133\n",
       "C             0.055020  0.088684\n",
       "D             0.026840  0.064949\n",
       "E             0.067552  0.054000"
      ]
     },
     "execution_count": 87,
     "metadata": {},
     "output_type": "execute_result"
    }
   ],
   "source": [
    "pTable = pTable / pTable.sum().astype('float')\n",
    "pTable.head()"
   ]
  },
  {
   "cell_type": "markdown",
   "metadata": {},
   "source": [
    "## Plotting\n",
    "Let's finally plot the data to compare the proportion of boys and girls name starting with each letter."
   ]
  },
  {
   "cell_type": "markdown",
   "metadata": {},
   "source": [
    "### Import matplotlib\n",
    "Let's import *matplotlib.pyplot* for plotting, or install it if it isn't already installed. **Remember *%matplotlib inline* is required if you want your plots to show inline** "
   ]
  },
  {
   "cell_type": "code",
   "execution_count": 88,
   "metadata": {},
   "outputs": [],
   "source": [
    "try:\n",
    "    import matplotlib.pyplot as plt\n",
    "except:\n",
    "    !pip install matplotlib\n",
    "    import matplotlib.pyplot as plt\n",
    "%matplotlib inline"
   ]
  },
  {
   "cell_type": "markdown",
   "metadata": {},
   "source": [
    "### Create comparison bar plot\n",
    "Finally, let's create a bar plot to compare the distribution of names. "
   ]
  },
  {
   "cell_type": "code",
   "execution_count": 89,
   "metadata": {},
   "outputs": [
    {
     "data": {
      "text/plain": [
       "<matplotlib.axes._subplots.AxesSubplot at 0x7f7b845ff278>"
      ]
     },
     "execution_count": 89,
     "metadata": {},
     "output_type": "execute_result"
    },
    {
     "data": {
      "image/png": "[encoded data removed]",
      "text/plain": [
       "<matplotlib.figure.Figure at 0x7f7bac0a2cc0>"
      ]
     },
     "metadata": {},
     "output_type": "display_data"
    }
   ],
   "source": [
    "fig, axes = plt.subplots(2, 1, figsize=(10, 10))\n",
    "pTable['M'].plot(kind='bar', rot=0, ax=axes[0], title='Male')\n",
    "pTable['F'].plot(kind='bar', rot=0, ax=axes[1], title='Female',\n",
    "                      legend=False)"
   ]
  }
 ],
 "metadata": {
  "kernelspec": {
   "display_name": "Python 3",
   "language": "python",
   "name": "python3"
  },
  "language_info": {
   "codemirror_mode": {
    "name": "ipython",
    "version": 3
   },
   "file_extension": ".py",
   "mimetype": "text/x-python",
   "name": "python",
   "nbconvert_exporter": "python",
   "pygments_lexer": "ipython3",
   "version": "3.7.3"
  },
  "widgets": {
   "state": {},
   "version": "1.1.2"
  }
 },
 "nbformat": 4,
 "nbformat_minor": 1
}
